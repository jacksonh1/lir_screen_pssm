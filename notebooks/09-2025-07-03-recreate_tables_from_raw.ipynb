{
 "cells": [
  {
   "cell_type": "code",
   "execution_count": 5,
   "id": "1f2f39f1",
   "metadata": {},
   "outputs": [],
   "source": [
    "from lir_proteome_screen_pssm import environment as env\n",
    "import pandas as pd\n",
    "import lir_proteome_screen_pssm.sequence_utils as seqtools\n",
    "import re\n",
    "import numpy as np\n",
    "import copy\n",
    "import lir_proteome_screen_pssm.data_loaders as dl\n",
    "\n",
    "output_dir = env.PROCESSED_DATA_DIR\n",
    "output_dir.mkdir(exist_ok=True, parents=True)\n",
    "old_regex = \"...[FWY]..[LVI]\"\n",
    "new_regex = \"...[FWY]..[WFY]\""
   ]
  },
  {
   "cell_type": "markdown",
   "id": "39553ca0",
   "metadata": {},
   "source": [
    "# preprocessed sequence table from Jen"
   ]
  },
  {
   "cell_type": "code",
   "execution_count": 6,
   "id": "755b5a71",
   "metadata": {},
   "outputs": [
    {
     "name": "stdout",
     "output_type": "stream",
     "text": [
      "297\n"
     ]
    }
   ],
   "source": [
    "rename_dict = {\n",
    "    \"first_4_residues\": \"4mer\",\n",
    "    \"first_6_residues\": \"6mer\",\n",
    "    \"first_8_residues\": \"8mer\",\n",
    "    \"first_14_residues\": \"14mer\",\n",
    "    \"first_7_residues\": \"7mer\",\n",
    "    \"first_5_residues\": \"5mer\",\n",
    "}\n",
    "\n",
    "screen_df = pd.read_csv(env.RAWFILEPATHS.screening_hits_table)\n",
    "screen_df = screen_df.rename(columns=rename_dict)\n",
    "assert all(\n",
    "    [len(s) == 7 for s in screen_df[\"7mer\"].tolist()]\n",
    "), \"All binders should be 7 residues long\"\n",
    "assert all(\n",
    "    screen_df[\"7mer\"].str.contains('-') == False\n",
    "), \"No 7mers should contain gaps\"\n",
    "\n",
    "screen_binders_df = screen_df[screen_df[\"Bind/Nonbind\"] == \"Bind\"].copy()\n",
    "screen_binders_df[\"true label\"] = 1\n",
    "screen_nonbinders_df = screen_df[screen_df['Bind/Nonbind'] == 'Nonbind'].copy()\n",
    "screen_nonbinders_df[\"true label\"] = 0\n",
    "print(len(screen_binders_df))\n",
    "a = set(screen_binders_df[\"7mer\"].to_list())"
   ]
  },
  {
   "cell_type": "markdown",
   "id": "6e5dce5b",
   "metadata": {},
   "source": [
    "# from all data to preprocessed binders (a double check)"
   ]
  },
  {
   "cell_type": "code",
   "execution_count": 7,
   "id": "3ac7ec36",
   "metadata": {},
   "outputs": [
    {
     "name": "stdout",
     "output_type": "stream",
     "text": [
      "420\n",
      "273\n"
     ]
    }
   ],
   "source": [
    "full_data_table = pd.read_csv(env.RAWFILEPATHS.full_screening_table, sep='\\t')\n",
    "screen_binders_from_raw = full_data_table[full_data_table['avg_z_score'] >= 1.7].copy()\n",
    "screen_binders_from_raw = screen_binders_from_raw[screen_binders_from_raw['Input Count'] >= 10].copy()\n",
    "# regex extract 7mer from 7mer column\n",
    "# only keep \n",
    "\n",
    "def get_regex_matches(s: pd.Series, regex: str):\n",
    "    matches = list(seqtools.get_regex_matches(regex, s[\"ID\"]))\n",
    "    # if len(matches) == 0:\n",
    "    #     return\n",
    "    return matches\n",
    "\n",
    "print(len(screen_binders_from_raw))\n",
    "# REGEX = seqtools.regex2overlapping(\"...[FWY]..[ILVWFY]\")\n",
    "REGEX = \"...[FWY]..[ILVWFY]\"\n",
    "# REGEX = \"[FWY]..[ILVWFY]\"\n",
    "screen_binders_from_raw[\"regex_matches\"] = screen_binders_from_raw.apply(get_regex_matches, axis=1, regex=REGEX)\n",
    "screen_binders_from_raw[\"num_regex_matches\"] = screen_binders_from_raw[\"regex_matches\"].apply(lambda x: len(x))\n",
    "screen_binders_from_raw[\"num_regex_matches\"].value_counts()\n",
    "df_multi = screen_binders_from_raw[screen_binders_from_raw[\"num_regex_matches\"] > 1].copy()\n",
    "df_multi = df_multi.explode(\"regex_matches\")\n",
    "df_single = screen_binders_from_raw[screen_binders_from_raw[\"num_regex_matches\"] == 1].copy()\n",
    "df_single[\"regex_matches\"] = df_single[\"regex_matches\"].apply(lambda x: x[0])\n",
    "screen_binders_from_raw = pd.concat([df_multi, df_single])\n",
    "screen_binders_from_raw[[\"7mer\", \"motif_start\", \"motif_end\"]] = pd.DataFrame(\n",
    "    screen_binders_from_raw[\"regex_matches\"].tolist(), index=screen_binders_from_raw.index\n",
    ")\n",
    "print(len(screen_binders_from_raw))\n",
    "b = set(screen_binders_from_raw[\"7mer\"].to_list())"
   ]
  },
  {
   "cell_type": "code",
   "execution_count": 8,
   "id": "dd5ba60c",
   "metadata": {},
   "outputs": [
    {
     "name": "stdout",
     "output_type": "stream",
     "text": [
      "283 260\n"
     ]
    }
   ],
   "source": [
    "print(len(a), len(b))"
   ]
  },
  {
   "cell_type": "code",
   "execution_count": 9,
   "id": "596d07cd",
   "metadata": {},
   "outputs": [
    {
     "name": "stdout",
     "output_type": "stream",
     "text": [
      "36\n",
      "13\n"
     ]
    }
   ],
   "source": [
    "print(len(a.difference(b)))\n",
    "print(len(b.difference(a)))"
   ]
  },
  {
   "cell_type": "markdown",
   "id": "94f24dbb",
   "metadata": {},
   "source": [
    "# junk"
   ]
  },
  {
   "cell_type": "code",
   "execution_count": null,
   "id": "11177eb3",
   "metadata": {},
   "outputs": [],
   "source": [
    "process_binders = dl.PROCESSED_SEQUENCE_TABLES.screen_binders\n",
    "process_binders_from_raw = pd.read_csv(env.PROCESSED_DATA_DIR / \"screen-binders_from_raw.csv\")"
   ]
  },
  {
   "cell_type": "code",
   "execution_count": 14,
   "id": "f748c296",
   "metadata": {},
   "outputs": [
    {
     "name": "stdout",
     "output_type": "stream",
     "text": [
      "278 251\n",
      "36\n",
      "9\n"
     ]
    }
   ],
   "source": [
    "c = set(process_binders[\"7mer\"].to_list())\n",
    "d = set(process_binders_from_raw[\"7mer\"].to_list())\n",
    "print(len(c), len(d))\n",
    "print(len(c.difference(d)))\n",
    "print(len(d.difference(c)))"
   ]
  },
  {
   "cell_type": "code",
   "execution_count": null,
   "id": "322eca70",
   "metadata": {},
   "outputs": [],
   "source": []
  },
  {
   "cell_type": "code",
   "execution_count": null,
   "id": "e3e1f759",
   "metadata": {},
   "outputs": [],
   "source": []
  },
  {
   "cell_type": "code",
   "execution_count": null,
   "id": "8a686c0b",
   "metadata": {},
   "outputs": [],
   "source": []
  },
  {
   "cell_type": "code",
   "execution_count": null,
   "id": "1eb951d3",
   "metadata": {},
   "outputs": [],
   "source": []
  },
  {
   "cell_type": "code",
   "execution_count": null,
   "id": "b900b095",
   "metadata": {},
   "outputs": [],
   "source": []
  },
  {
   "cell_type": "code",
   "execution_count": null,
   "id": "cd8ea4bc",
   "metadata": {},
   "outputs": [],
   "source": []
  },
  {
   "cell_type": "code",
   "execution_count": null,
   "id": "8be2d651",
   "metadata": {},
   "outputs": [],
   "source": []
  },
  {
   "cell_type": "code",
   "execution_count": null,
   "id": "aef0b443",
   "metadata": {},
   "outputs": [],
   "source": []
  }
 ],
 "metadata": {
  "jupytext": {
   "formats": "ipynb,py:percent",
   "main_language": "python"
  },
  "kernelspec": {
   "display_name": "lir_proteome_screen_pssm",
   "language": "python",
   "name": "python3"
  },
  "language_info": {
   "codemirror_mode": {
    "name": "ipython",
    "version": 3
   },
   "file_extension": ".py",
   "mimetype": "text/x-python",
   "name": "python",
   "nbconvert_exporter": "python",
   "pygments_lexer": "ipython3",
   "version": "3.10.18"
  }
 },
 "nbformat": 4,
 "nbformat_minor": 5
}
